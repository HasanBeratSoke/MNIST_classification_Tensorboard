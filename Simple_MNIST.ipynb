{
 "cells": [
  {
   "cell_type": "code",
   "execution_count": 174,
   "id": "2ac75cee",
   "metadata": {},
   "outputs": [],
   "source": [
    "\n",
    "import numpy as np\n",
    "import matplotlib.pyplot as plt\n",
    "%matplotlib inline\n",
    "import seaborn as sbn\n",
    "import pandas as pd\n",
    "import cv2 as cv"
   ]
  },
  {
   "cell_type": "code",
   "execution_count": 175,
   "id": "463ef496",
   "metadata": {},
   "outputs": [
    {
     "name": "stdout",
     "output_type": "stream",
     "text": [
      "2.9.1\n"
     ]
    }
   ],
   "source": [
    "import tensorflow\n",
    "print(tensorflow.__version__)\n",
    "from tensorflow import keras\n",
    "from sklearn.model_selection import train_test_split\n",
    "from tensorflow.keras import layers\n",
    "from tensorflow.keras.layers import Dense, Conv2D, MaxPooling2D,Input, Flatten , Dropout\n",
    "from tensorflow.keras.models import Sequential\n",
    "from tensorflow.keras.callbacks import EarlyStopping\n",
    "\n",
    "from keras.callbacks import TensorBoard\n",
    "import time\n",
    "from datetime import datetime, timedelta\n"
   ]
  },
  {
   "cell_type": "code",
   "execution_count": 176,
   "id": "db70e264",
   "metadata": {},
   "outputs": [],
   "source": [
    "(x_train, y_train), (x_test, y_test) = keras.datasets.mnist.load_data()"
   ]
  },
  {
   "cell_type": "code",
   "execution_count": 177,
   "id": "8837b7ce",
   "metadata": {},
   "outputs": [
    {
     "data": {
      "text/plain": [
       "(60000, 28, 28)"
      ]
     },
     "execution_count": 177,
     "metadata": {},
     "output_type": "execute_result"
    }
   ],
   "source": [
    "x_train.shape"
   ]
  },
  {
   "cell_type": "code",
   "execution_count": null,
   "id": "9e6deb78",
   "metadata": {},
   "outputs": [],
   "source": []
  },
  {
   "cell_type": "code",
   "execution_count": 178,
   "id": "f1f9e729",
   "metadata": {},
   "outputs": [],
   "source": [
    "# degerleri 0-1 sikistirildi\n",
    "x_train = x_train.astype('float32')/255\n",
    "x_test= x_test.astype('float32')/255\n",
    "\n",
    "x_train = np.expand_dims(x_train, -1)\n",
    "x_test = np.expand_dims(x_test, -1)"
   ]
  },
  {
   "cell_type": "code",
   "execution_count": 179,
   "id": "9c819812",
   "metadata": {},
   "outputs": [],
   "source": [
    "y_train = keras.utils.to_categorical(y_train, 10)\n",
    "y_test = keras.utils.to_categorical(y_test, 10)\n"
   ]
  },
  {
   "cell_type": "code",
   "execution_count": 180,
   "id": "b6e9b9bd",
   "metadata": {
    "scrolled": true
   },
   "outputs": [
    {
     "data": {
      "text/plain": [
       "array([[0., 0., 0., ..., 1., 0., 0.],\n",
       "       [0., 0., 1., ..., 0., 0., 0.],\n",
       "       [0., 1., 0., ..., 0., 0., 0.],\n",
       "       ...,\n",
       "       [0., 0., 0., ..., 0., 0., 0.],\n",
       "       [0., 0., 0., ..., 0., 0., 0.],\n",
       "       [0., 0., 0., ..., 0., 0., 0.]], dtype=float32)"
      ]
     },
     "execution_count": 180,
     "metadata": {},
     "output_type": "execute_result"
    }
   ],
   "source": [
    "y_test"
   ]
  },
  {
   "cell_type": "code",
   "execution_count": 181,
   "id": "20a35dc6",
   "metadata": {},
   "outputs": [
    {
     "data": {
      "text/plain": [
       "(60000, 28, 28, 1)"
      ]
     },
     "execution_count": 181,
     "metadata": {},
     "output_type": "execute_result"
    }
   ],
   "source": [
    "x_train.shape"
   ]
  },
  {
   "cell_type": "code",
   "execution_count": 182,
   "id": "debd8b9a",
   "metadata": {},
   "outputs": [],
   "source": [
    "\n",
    "\n",
    "batch_size = 128\n",
    "num_classes = 10\n",
    "epochs = 10"
   ]
  },
  {
   "cell_type": "code",
   "execution_count": 192,
   "id": "88e98afa",
   "metadata": {},
   "outputs": [],
   "source": [
    "earlyStoping = EarlyStopping(monitor='loss', mode= 'min', verbose=1, patience= 5)"
   ]
  },
  {
   "cell_type": "code",
   "execution_count": 193,
   "id": "4349f07d",
   "metadata": {},
   "outputs": [],
   "source": [
    "model = Sequential()\n",
    "model.add(Input(shape=(28,28,1)))\n",
    "model.add(Conv2D(32, kernel_size=(3, 3), activation=\"relu\"))\n",
    "model.add(MaxPooling2D(pool_size=(2,2)))\n",
    "model.add(Dropout(0.25))\n",
    "model.add(Conv2D(64, kernel_size=(3, 3), activation=\"relu\"))\n",
    "model.add(MaxPooling2D(pool_size=(2,2)))\n",
    "model.add(Dropout(0.25))\n",
    "model.add(Flatten()),\n",
    "model.add(Dense(10 ,activation='softmax'))\n",
    "\n",
    "\n"
   ]
  },
  {
   "cell_type": "code",
   "execution_count": 194,
   "id": "f9ceffbf",
   "metadata": {},
   "outputs": [],
   "source": [
    "log_dir = \"/tmp/tensorboard/\" + datetime.now().strftime(\"%Y%m%d-%H%M%S\")"
   ]
  },
  {
   "cell_type": "code",
   "execution_count": 195,
   "id": "781ff5ac",
   "metadata": {},
   "outputs": [
    {
     "name": "stdout",
     "output_type": "stream",
     "text": [
      "WARNING:tensorflow:`batch_size` is no longer needed in the `TensorBoard` Callback and will be ignored in TensorFlow 2.0.\n"
     ]
    }
   ],
   "source": [
    "kerasboard = TensorBoard(log_dir=log_dir,\n",
    "                        histogram_freq=1,\n",
    "                        batch_size=batch_size,\n",
    "                        write_grads=False)"
   ]
  },
  {
   "cell_type": "code",
   "execution_count": 196,
   "id": "f9037184",
   "metadata": {},
   "outputs": [
    {
     "name": "stdout",
     "output_type": "stream",
     "text": [
      "Model: \"sequential_9\"\n",
      "_________________________________________________________________\n",
      " Layer (type)                Output Shape              Param #   \n",
      "=================================================================\n",
      " conv2d_18 (Conv2D)          (None, 26, 26, 32)        320       \n",
      "                                                                 \n",
      " max_pooling2d_18 (MaxPoolin  (None, 13, 13, 32)       0         \n",
      " g2D)                                                            \n",
      "                                                                 \n",
      " dropout_19 (Dropout)        (None, 13, 13, 32)        0         \n",
      "                                                                 \n",
      " conv2d_19 (Conv2D)          (None, 11, 11, 64)        18496     \n",
      "                                                                 \n",
      " max_pooling2d_19 (MaxPoolin  (None, 5, 5, 64)         0         \n",
      " g2D)                                                            \n",
      "                                                                 \n",
      " dropout_20 (Dropout)        (None, 5, 5, 64)          0         \n",
      "                                                                 \n",
      " flatten_9 (Flatten)         (None, 1600)              0         \n",
      "                                                                 \n",
      " dense_9 (Dense)             (None, 10)                16010     \n",
      "                                                                 \n",
      "=================================================================\n",
      "Total params: 34,826\n",
      "Trainable params: 34,826\n",
      "Non-trainable params: 0\n",
      "_________________________________________________________________\n"
     ]
    }
   ],
   "source": [
    "model.summary()\n"
   ]
  },
  {
   "cell_type": "code",
   "execution_count": 197,
   "id": "abcaab66",
   "metadata": {},
   "outputs": [],
   "source": [
    "model.compile(loss='categorical_crossentropy' , optimizer = 'adam',metrics=['accuracy']  )"
   ]
  },
  {
   "cell_type": "code",
   "execution_count": 198,
   "id": "f1308c30",
   "metadata": {},
   "outputs": [
    {
     "name": "stdout",
     "output_type": "stream",
     "text": [
      "Epoch 1/20\n",
      "422/422 [==============================] - 18s 43ms/step - loss: 0.3392 - accuracy: 0.9002 - val_loss: 0.0856 - val_accuracy: 0.9758\n",
      "Epoch 2/20\n",
      "422/422 [==============================] - 18s 44ms/step - loss: 0.1001 - accuracy: 0.9693 - val_loss: 0.0585 - val_accuracy: 0.9845\n",
      "Epoch 3/20\n",
      "422/422 [==============================] - 18s 42ms/step - loss: 0.0763 - accuracy: 0.9763 - val_loss: 0.0458 - val_accuracy: 0.9875\n",
      "Epoch 4/20\n",
      "422/422 [==============================] - 17s 41ms/step - loss: 0.0643 - accuracy: 0.9798 - val_loss: 0.0439 - val_accuracy: 0.9872\n",
      "Epoch 5/20\n",
      "422/422 [==============================] - 17s 41ms/step - loss: 0.0571 - accuracy: 0.9825 - val_loss: 0.0404 - val_accuracy: 0.9888\n",
      "Epoch 6/20\n",
      "422/422 [==============================] - 17s 41ms/step - loss: 0.0503 - accuracy: 0.9846 - val_loss: 0.0363 - val_accuracy: 0.9898\n",
      "Epoch 7/20\n",
      "422/422 [==============================] - 18s 44ms/step - loss: 0.0447 - accuracy: 0.9859 - val_loss: 0.0393 - val_accuracy: 0.9890\n",
      "Epoch 8/20\n",
      "422/422 [==============================] - 19s 46ms/step - loss: 0.0427 - accuracy: 0.9863 - val_loss: 0.0369 - val_accuracy: 0.9902\n",
      "Epoch 9/20\n",
      "422/422 [==============================] - 18s 42ms/step - loss: 0.0380 - accuracy: 0.9880 - val_loss: 0.0318 - val_accuracy: 0.9915\n",
      "Epoch 10/20\n",
      "422/422 [==============================] - 18s 42ms/step - loss: 0.0355 - accuracy: 0.9890 - val_loss: 0.0308 - val_accuracy: 0.9913\n",
      "Epoch 11/20\n",
      "422/422 [==============================] - 18s 42ms/step - loss: 0.0342 - accuracy: 0.9891 - val_loss: 0.0280 - val_accuracy: 0.9913\n",
      "Epoch 12/20\n",
      "422/422 [==============================] - 18s 41ms/step - loss: 0.0323 - accuracy: 0.9892 - val_loss: 0.0325 - val_accuracy: 0.9908\n",
      "Epoch 13/20\n",
      "422/422 [==============================] - 18s 43ms/step - loss: 0.0303 - accuracy: 0.9903 - val_loss: 0.0309 - val_accuracy: 0.9907\n",
      "Epoch 14/20\n",
      "422/422 [==============================] - 18s 43ms/step - loss: 0.0279 - accuracy: 0.9909 - val_loss: 0.0324 - val_accuracy: 0.9907\n",
      "Epoch 15/20\n",
      "422/422 [==============================] - 19s 46ms/step - loss: 0.0268 - accuracy: 0.9913 - val_loss: 0.0281 - val_accuracy: 0.9912\n",
      "Epoch 16/20\n",
      "422/422 [==============================] - 19s 46ms/step - loss: 0.0251 - accuracy: 0.9918 - val_loss: 0.0277 - val_accuracy: 0.9927\n",
      "Epoch 17/20\n",
      "422/422 [==============================] - 20s 46ms/step - loss: 0.0256 - accuracy: 0.9915 - val_loss: 0.0309 - val_accuracy: 0.9920\n",
      "Epoch 18/20\n",
      "422/422 [==============================] - 19s 45ms/step - loss: 0.0230 - accuracy: 0.9929 - val_loss: 0.0269 - val_accuracy: 0.9927\n",
      "Epoch 19/20\n",
      "422/422 [==============================] - 19s 44ms/step - loss: 0.0231 - accuracy: 0.9926 - val_loss: 0.0251 - val_accuracy: 0.9930\n",
      "Epoch 20/20\n",
      "422/422 [==============================] - 18s 43ms/step - loss: 0.0217 - accuracy: 0.9929 - val_loss: 0.0283 - val_accuracy: 0.9927\n"
     ]
    },
    {
     "data": {
      "text/plain": [
       "<keras.callbacks.History at 0x1b5429f3970>"
      ]
     },
     "execution_count": 198,
     "metadata": {},
     "output_type": "execute_result"
    }
   ],
   "source": [
    "model.fit(x_train, y_train ,callbacks=[kerasboard,earlyStoping], batch_size=128 ,epochs=20, validation_split=0.10)"
   ]
  },
  {
   "cell_type": "code",
   "execution_count": 208,
   "id": "65bdc462",
   "metadata": {},
   "outputs": [
    {
     "name": "stdout",
     "output_type": "stream",
     "text": [
      "tensorboard --logdir=/tmp/tensorboard/20221226-135418\n"
     ]
    }
   ],
   "source": [
    "# cıktıyı anaconda propmt terminaline yazılması gereklidir.\n",
    "print(\"tensorboard --logdir=\"+kerasboard.log_dir)"
   ]
  },
  {
   "cell_type": "code",
   "execution_count": 202,
   "id": "d2fb8a0f",
   "metadata": {},
   "outputs": [],
   "source": [
    "lossHis = pd.DataFrame(model.history.history)"
   ]
  },
  {
   "cell_type": "code",
   "execution_count": 203,
   "id": "271e64f8",
   "metadata": {},
   "outputs": [
    {
     "name": "stdout",
     "output_type": "stream",
     "text": [
      "        loss  accuracy  val_loss  val_accuracy\n",
      "0   0.339209  0.900241  0.085561      0.975833\n",
      "1   0.100092  0.969278  0.058470      0.984500\n",
      "2   0.076340  0.976315  0.045837      0.987500\n",
      "3   0.064268  0.979815  0.043929      0.987167\n",
      "4   0.057120  0.982500  0.040394      0.988833\n",
      "5   0.050320  0.984593  0.036286      0.989833\n",
      "6   0.044718  0.985907  0.039273      0.989000\n",
      "7   0.042661  0.986315  0.036874      0.990167\n",
      "8   0.038013  0.987963  0.031827      0.991500\n",
      "9   0.035549  0.988963  0.030769      0.991333\n",
      "10  0.034207  0.989074  0.028008      0.991333\n",
      "11  0.032282  0.989222  0.032514      0.990833\n",
      "12  0.030349  0.990315  0.030872      0.990667\n",
      "13  0.027871  0.990944  0.032364      0.990667\n",
      "14  0.026815  0.991259  0.028145      0.991167\n",
      "15  0.025094  0.991759  0.027710      0.992667\n",
      "16  0.025560  0.991481  0.030860      0.992000\n",
      "17  0.023049  0.992852  0.026879      0.992667\n",
      "18  0.023066  0.992611  0.025140      0.993000\n",
      "19  0.021729  0.992944  0.028333      0.992667\n"
     ]
    }
   ],
   "source": [
    "print(lossHis)"
   ]
  },
  {
   "cell_type": "code",
   "execution_count": 204,
   "id": "6f13b41e",
   "metadata": {},
   "outputs": [
    {
     "data": {
      "text/plain": [
       "<AxesSubplot: >"
      ]
     },
     "execution_count": 204,
     "metadata": {},
     "output_type": "execute_result"
    },
    {
     "data": {
      "image/png": "[encoded data removed]",
      "text/plain": [
       "<Figure size 432x288 with 1 Axes>"
      ]
     },
     "metadata": {
      "needs_background": "light"
     },
     "output_type": "display_data"
    }
   ],
   "source": [
    "lossHis.plot()"
   ]
  },
  {
   "cell_type": "code",
   "execution_count": 205,
   "id": "4099d338",
   "metadata": {},
   "outputs": [
    {
     "name": "stdout",
     "output_type": "stream",
     "text": [
      "Test loss: 0.0247180238366127\n",
      "Test accuracy: 0.9912999868392944\n"
     ]
    }
   ],
   "source": [
    "score = model.evaluate(x_test, y_test, verbose=0)\n",
    "print(\"Test loss:\", score[0])\n",
    "print(\"Test accuracy:\", score[1])"
   ]
  },
  {
   "cell_type": "code",
   "execution_count": 206,
   "id": "a9ab6490",
   "metadata": {},
   "outputs": [],
   "source": [
    "#real life example\n",
    "\n",
    "def example():\n",
    "    img = cv.imread('user_input.jpg',0)\n",
    "    img = cv.bitwise_not(img)\n",
    "    img =cv.resize(img, (28,28))\n",
    "    plt.imshow(img , cmap='gray')\n",
    "    plt.show()\n",
    "    img = np.expand_dims(img, -1)\n",
    "    img = np.expand_dims(img, 0)\n",
    "    print(img.shape)\n",
    "    pre =model.predict(img)\n",
    "    pre = pd.DataFrame(pre)\n",
    "    pre.iloc[0].plot(kind='bar')\n",
    "    cv.waitKey(0)\n",
    "    cv.destroyAllWindows()"
   ]
  },
  {
   "cell_type": "code",
   "execution_count": 207,
   "id": "623f13a1",
   "metadata": {},
   "outputs": [
    {
     "data": {
      "image/png": "[encoded data removed]",
      "text/plain": [
       "<Figure size 432x288 with 1 Axes>"
      ]
     },
     "metadata": {
      "needs_background": "light"
     },
     "output_type": "display_data"
    },
    {
     "name": "stdout",
     "output_type": "stream",
     "text": [
      "(1, 28, 28, 1)\n",
      "WARNING:tensorflow:6 out of the last 9 calls to <function Model.make_predict_function.<locals>.predict_function at 0x000001B544850AF0> triggered tf.function retracing. Tracing is expensive and the excessive number of tracings could be due to (1) creating @tf.function repeatedly in a loop, (2) passing tensors with different shapes, (3) passing Python objects instead of tensors. For (1), please define your @tf.function outside of the loop. For (2), @tf.function has reduce_retracing=True option that can avoid unnecessary retracing. For (3), please refer to https://www.tensorflow.org/guide/function#controlling_retracing and https://www.tensorflow.org/api_docs/python/tf/function for  more details.\n",
      "1/1 [==============================] - 0s 58ms/step\n"
     ]
    },
    {
     "data": {
      "image/png": "[encoded data removed]",
      "text/plain": [
       "<Figure size 432x288 with 1 Axes>"
      ]
     },
     "metadata": {
      "needs_background": "light"
     },
     "output_type": "display_data"
    }
   ],
   "source": [
    "example()"
   ]
  },
  {
   "cell_type": "code",
   "execution_count": null,
   "id": "5fe21b13",
   "metadata": {},
   "outputs": [],
   "source": []
  },
  {
   "cell_type": "code",
   "execution_count": null,
   "id": "021a2551",
   "metadata": {},
   "outputs": [],
   "source": []
  },
  {
   "cell_type": "code",
   "execution_count": null,
   "id": "bed53c5e",
   "metadata": {},
   "outputs": [],
   "source": []
  },
  {
   "cell_type": "code",
   "execution_count": null,
   "id": "6c4b2833",
   "metadata": {},
   "outputs": [],
   "source": []
  },
  {
   "cell_type": "code",
   "execution_count": null,
   "id": "4e560e79",
   "metadata": {},
   "outputs": [],
   "source": []
  },
  {
   "cell_type": "code",
   "execution_count": null,
   "id": "42c9c0e8",
   "metadata": {},
   "outputs": [],
   "source": []
  },
  {
   "cell_type": "code",
   "execution_count": null,
   "id": "25e258f4",
   "metadata": {},
   "outputs": [],
   "source": []
  },
  {
   "cell_type": "code",
   "execution_count": null,
   "id": "a93be0ee",
   "metadata": {},
   "outputs": [],
   "source": []
  },
  {
   "cell_type": "code",
   "execution_count": null,
   "id": "20434548",
   "metadata": {},
   "outputs": [],
   "source": []
  },
  {
   "cell_type": "code",
   "execution_count": null,
   "id": "0fd8f9ef",
   "metadata": {},
   "outputs": [],
   "source": []
  },
  {
   "cell_type": "code",
   "execution_count": null,
   "id": "a11179fe",
   "metadata": {},
   "outputs": [],
   "source": []
  },
  {
   "cell_type": "code",
   "execution_count": null,
   "id": "d53d2c52",
   "metadata": {},
   "outputs": [],
   "source": []
  },
  {
   "cell_type": "code",
   "execution_count": null,
   "id": "aa05f55f",
   "metadata": {},
   "outputs": [],
   "source": []
  },
  {
   "cell_type": "code",
   "execution_count": null,
   "id": "3b738982",
   "metadata": {},
   "outputs": [],
   "source": []
  },
  {
   "cell_type": "code",
   "execution_count": null,
   "id": "c5a46fc5",
   "metadata": {},
   "outputs": [],
   "source": []
  },
  {
   "cell_type": "code",
   "execution_count": null,
   "id": "befac878",
   "metadata": {},
   "outputs": [],
   "source": []
  },
  {
   "cell_type": "code",
   "execution_count": null,
   "id": "2c5bae1f",
   "metadata": {},
   "outputs": [],
   "source": []
  },
  {
   "cell_type": "code",
   "execution_count": null,
   "id": "cd926ff7",
   "metadata": {},
   "outputs": [],
   "source": []
  },
  {
   "cell_type": "code",
   "execution_count": null,
   "id": "24356fa6",
   "metadata": {},
   "outputs": [],
   "source": []
  },
  {
   "cell_type": "code",
   "execution_count": null,
   "id": "e440fddc",
   "metadata": {},
   "outputs": [],
   "source": []
  }
 ],
 "metadata": {
  "kernelspec": {
   "display_name": "Python 3",
   "language": "python",
   "name": "python3"
  },
  "language_info": {
   "codemirror_mode": {
    "name": "ipython",
    "version": 3
   },
   "file_extension": ".py",
   "mimetype": "text/x-python",
   "name": "python",
   "nbconvert_exporter": "python",
   "pygments_lexer": "ipython3",
   "version": "3.9.13"
  },
  "vscode": {
   "interpreter": {
    "hash": "6c8122ea4cf4a5097baaa908609aa66998664bb7fca015d9f5ca5039768edece"
   }
  }
 },
 "nbformat": 4,
 "nbformat_minor": 5
}
