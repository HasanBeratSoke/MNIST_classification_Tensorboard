{
 "cells": [
  {
   "cell_type": "code",
   "execution_count": 1,
   "id": "2ac75cee",
   "metadata": {},
   "outputs": [],
   "source": [
    "import tensorflow as tf\n",
    "import numpy as np\n",
    "import matplotlib.pyplot as plt\n",
    "%matplotlib inline\n",
    "import seaborn as sbn\n",
    "import pandas as pd\n",
    "import cv2 as cv"
   ]
  },
  {
   "cell_type": "code",
   "execution_count": 2,
   "id": "463ef496",
   "metadata": {},
   "outputs": [],
   "source": [
    "from tensorflow import keras\n",
    "from sklearn.model_selection import train_test_split\n",
    "from tensorflow.keras import layers\n",
    "from tensorflow.keras.layers import Dense, Conv2D, MaxPooling2D,Input, Flatten , Dropout\n",
    "from tensorflow.keras.models import Sequential\n",
    "from tensorflow.keras.callbacks import EarlyStopping"
   ]
  },
  {
   "cell_type": "code",
   "execution_count": 3,
   "id": "db70e264",
   "metadata": {},
   "outputs": [],
   "source": [
    "(x_train, y_train), (x_test, y_test) = keras.datasets.mnist.load_data()"
   ]
  },
  {
   "cell_type": "code",
   "execution_count": 4,
   "id": "8837b7ce",
   "metadata": {},
   "outputs": [
    {
     "data": {
      "text/plain": [
       "(60000, 28, 28)"
      ]
     },
     "execution_count": 4,
     "metadata": {},
     "output_type": "execute_result"
    }
   ],
   "source": [
    "x_train.shape"
   ]
  },
  {
   "cell_type": "code",
   "execution_count": null,
   "id": "9e6deb78",
   "metadata": {},
   "outputs": [],
   "source": []
  },
  {
   "cell_type": "code",
   "execution_count": 5,
   "id": "f1f9e729",
   "metadata": {},
   "outputs": [],
   "source": [
    "# degerleri 0-1 sikistirildi\n",
    "x_train = x_train.astype('float32')/255\n",
    "x_test= x_test.astype('float32')/255\n",
    "# bunu neden yapiyoruz anlamadim ?\n",
    "x_train = np.expand_dims(x_train, -1)\n",
    "x_test = np.expand_dims(x_test, -1)"
   ]
  },
  {
   "cell_type": "code",
   "execution_count": 6,
   "id": "9c819812",
   "metadata": {},
   "outputs": [],
   "source": [
    "y_train = keras.utils.to_categorical(y_train, 10)\n",
    "y_test = keras.utils.to_categorical(y_test, 10)\n"
   ]
  },
  {
   "cell_type": "code",
   "execution_count": 7,
   "id": "b6e9b9bd",
   "metadata": {
    "scrolled": true
   },
   "outputs": [
    {
     "data": {
      "text/plain": [
       "array([[0., 0., 0., ..., 1., 0., 0.],\n",
       "       [0., 0., 1., ..., 0., 0., 0.],\n",
       "       [0., 1., 0., ..., 0., 0., 0.],\n",
       "       ...,\n",
       "       [0., 0., 0., ..., 0., 0., 0.],\n",
       "       [0., 0., 0., ..., 0., 0., 0.],\n",
       "       [0., 0., 0., ..., 0., 0., 0.]], dtype=float32)"
      ]
     },
     "execution_count": 7,
     "metadata": {},
     "output_type": "execute_result"
    }
   ],
   "source": [
    "y_test"
   ]
  },
  {
   "cell_type": "code",
   "execution_count": 8,
   "id": "20a35dc6",
   "metadata": {},
   "outputs": [
    {
     "data": {
      "text/plain": [
       "(60000, 28, 28, 1)"
      ]
     },
     "execution_count": 8,
     "metadata": {},
     "output_type": "execute_result"
    }
   ],
   "source": [
    "x_train.shape"
   ]
  },
  {
   "cell_type": "code",
   "execution_count": null,
   "id": "debd8b9a",
   "metadata": {},
   "outputs": [],
   "source": []
  },
  {
   "cell_type": "code",
   "execution_count": 9,
   "id": "88e98afa",
   "metadata": {},
   "outputs": [],
   "source": [
    "earlyStoping = EarlyStopping(monitor='loss', mode= 'min', verbose=1, patience= 5)"
   ]
  },
  {
   "cell_type": "code",
   "execution_count": 10,
   "id": "4349f07d",
   "metadata": {},
   "outputs": [],
   "source": [
    "model = Sequential()\n",
    "model.add(Input(shape=(28,28,1)))\n",
    "model.add(Conv2D(32, kernel_size=(3, 3), activation=\"relu\"))\n",
    "model.add(MaxPooling2D(pool_size=(2,2)))\n",
    "model.add(Conv2D(64, kernel_size=(3, 3), activation=\"relu\"))\n",
    "model.add(MaxPooling2D(pool_size=(2,2)))\n",
    "model.add(Flatten()),\n",
    "model.add(Dropout(0.5))\n",
    "model.add(Dense(10 ,activation='softmax'))\n",
    "\n",
    "\n"
   ]
  },
  {
   "cell_type": "code",
   "execution_count": 11,
   "id": "f9037184",
   "metadata": {},
   "outputs": [
    {
     "name": "stdout",
     "output_type": "stream",
     "text": [
      "Model: \"sequential\"\n",
      "_________________________________________________________________\n",
      "Layer (type)                 Output Shape              Param #   \n",
      "=================================================================\n",
      "conv2d (Conv2D)              (None, 26, 26, 32)        320       \n",
      "_________________________________________________________________\n",
      "max_pooling2d (MaxPooling2D) (None, 13, 13, 32)        0         \n",
      "_________________________________________________________________\n",
      "conv2d_1 (Conv2D)            (None, 11, 11, 64)        18496     \n",
      "_________________________________________________________________\n",
      "max_pooling2d_1 (MaxPooling2 (None, 5, 5, 64)          0         \n",
      "_________________________________________________________________\n",
      "flatten (Flatten)            (None, 1600)              0         \n",
      "_________________________________________________________________\n",
      "dropout (Dropout)            (None, 1600)              0         \n",
      "_________________________________________________________________\n",
      "dense (Dense)                (None, 10)                16010     \n",
      "=================================================================\n",
      "Total params: 34,826\n",
      "Trainable params: 34,826\n",
      "Non-trainable params: 0\n",
      "_________________________________________________________________\n"
     ]
    }
   ],
   "source": [
    "model.summary()\n"
   ]
  },
  {
   "cell_type": "code",
   "execution_count": 12,
   "id": "abcaab66",
   "metadata": {},
   "outputs": [],
   "source": [
    "model.compile(loss='categorical_crossentropy' , optimizer = 'adam',metrics=['accuracy']  )"
   ]
  },
  {
   "cell_type": "code",
   "execution_count": 13,
   "id": "f1308c30",
   "metadata": {},
   "outputs": [
    {
     "name": "stdout",
     "output_type": "stream",
     "text": [
      "Epoch 1/20\n",
      "422/422 [==============================] - 18s 42ms/step - loss: 0.3697 - accuracy: 0.8876 - val_loss: 0.0857 - val_accuracy: 0.9785\n",
      "Epoch 2/20\n",
      "422/422 [==============================] - 18s 42ms/step - loss: 0.1116 - accuracy: 0.9656 - val_loss: 0.0564 - val_accuracy: 0.9850\n",
      "Epoch 3/20\n",
      "422/422 [==============================] - 17s 41ms/step - loss: 0.0847 - accuracy: 0.9743 - val_loss: 0.0531 - val_accuracy: 0.9860\n",
      "Epoch 4/20\n",
      "422/422 [==============================] - 18s 42ms/step - loss: 0.0721 - accuracy: 0.9780 - val_loss: 0.0449 - val_accuracy: 0.9870\n",
      "Epoch 5/20\n",
      "422/422 [==============================] - 18s 43ms/step - loss: 0.0625 - accuracy: 0.9808 - val_loss: 0.0400 - val_accuracy: 0.9898\n",
      "Epoch 6/20\n",
      "422/422 [==============================] - 19s 44ms/step - loss: 0.0577 - accuracy: 0.9825 - val_loss: 0.0389 - val_accuracy: 0.9892\n",
      "Epoch 7/20\n",
      "422/422 [==============================] - 19s 45ms/step - loss: 0.0535 - accuracy: 0.9836 - val_loss: 0.0349 - val_accuracy: 0.9905\n",
      "Epoch 8/20\n",
      "422/422 [==============================] - 19s 46ms/step - loss: 0.0465 - accuracy: 0.9854 - val_loss: 0.0337 - val_accuracy: 0.9910\n",
      "Epoch 9/20\n",
      "422/422 [==============================] - 19s 46ms/step - loss: 0.0441 - accuracy: 0.9858 - val_loss: 0.0336 - val_accuracy: 0.9910\n",
      "Epoch 10/20\n",
      "422/422 [==============================] - 19s 45ms/step - loss: 0.0422 - accuracy: 0.9864 - val_loss: 0.0344 - val_accuracy: 0.9898\n",
      "Epoch 11/20\n",
      "422/422 [==============================] - 19s 46ms/step - loss: 0.0388 - accuracy: 0.9879 - val_loss: 0.0319 - val_accuracy: 0.9917\n",
      "Epoch 12/20\n",
      "422/422 [==============================] - 18s 43ms/step - loss: 0.0378 - accuracy: 0.9881 - val_loss: 0.0315 - val_accuracy: 0.9923\n",
      "Epoch 13/20\n",
      "422/422 [==============================] - 18s 42ms/step - loss: 0.0363 - accuracy: 0.9880 - val_loss: 0.0291 - val_accuracy: 0.9922\n",
      "Epoch 14/20\n",
      "422/422 [==============================] - 18s 42ms/step - loss: 0.0342 - accuracy: 0.9888 - val_loss: 0.0286 - val_accuracy: 0.9922\n",
      "Epoch 15/20\n",
      "422/422 [==============================] - 18s 42ms/step - loss: 0.0337 - accuracy: 0.9891 - val_loss: 0.0309 - val_accuracy: 0.9918\n",
      "Epoch 16/20\n",
      "422/422 [==============================] - 17s 41ms/step - loss: 0.0308 - accuracy: 0.9899 - val_loss: 0.0293 - val_accuracy: 0.9917\n",
      "Epoch 17/20\n",
      "422/422 [==============================] - 18s 42ms/step - loss: 0.0293 - accuracy: 0.9907 - val_loss: 0.0298 - val_accuracy: 0.9922\n",
      "Epoch 18/20\n",
      "422/422 [==============================] - 18s 42ms/step - loss: 0.0310 - accuracy: 0.9893 - val_loss: 0.0288 - val_accuracy: 0.9913\n",
      "Epoch 19/20\n",
      "422/422 [==============================] - 18s 42ms/step - loss: 0.0277 - accuracy: 0.9904 - val_loss: 0.0278 - val_accuracy: 0.9920\n",
      "Epoch 20/20\n",
      "422/422 [==============================] - 17s 41ms/step - loss: 0.0271 - accuracy: 0.9911 - val_loss: 0.0314 - val_accuracy: 0.9923\n"
     ]
    },
    {
     "data": {
      "text/plain": [
       "<tensorflow.python.keras.callbacks.History at 0x24c0c13e220>"
      ]
     },
     "execution_count": 13,
     "metadata": {},
     "output_type": "execute_result"
    }
   ],
   "source": [
    "model.fit(x_train, y_train ,callbacks=earlyStoping, batch_size=128 ,epochs=20, validation_split=0.1)"
   ]
  },
  {
   "cell_type": "code",
   "execution_count": 14,
   "id": "d2fb8a0f",
   "metadata": {},
   "outputs": [],
   "source": [
    "lossHis = pd.DataFrame(model.history.history)"
   ]
  },
  {
   "cell_type": "code",
   "execution_count": 15,
   "id": "6f13b41e",
   "metadata": {},
   "outputs": [
    {
     "data": {
      "text/plain": [
       "<AxesSubplot:>"
      ]
     },
     "execution_count": 15,
     "metadata": {},
     "output_type": "execute_result"
    },
    {
     "data": {
      "image/png": "[encoded data removed]",
      "text/plain": [
       "<Figure size 432x288 with 1 Axes>"
      ]
     },
     "metadata": {
      "needs_background": "light"
     },
     "output_type": "display_data"
    }
   ],
   "source": [
    "lossHis.plot()"
   ]
  },
  {
   "cell_type": "code",
   "execution_count": 76,
   "id": "4099d338",
   "metadata": {},
   "outputs": [
    {
     "name": "stdout",
     "output_type": "stream",
     "text": [
      "Test loss: 0.021739060059189796\n",
      "Test accuracy: 0.9925000071525574\n"
     ]
    }
   ],
   "source": [
    "score = model.evaluate(x_test, y_test, verbose=0)\n",
    "print(\"Test loss:\", score[0])\n",
    "print(\"Test accuracy:\", score[1])"
   ]
  },
  {
   "cell_type": "code",
   "execution_count": 125,
   "id": "a9ab6490",
   "metadata": {},
   "outputs": [],
   "source": [
    "#real life example\n",
    "\n",
    "def example():\n",
    "    img = cv.imread('user_input.jpg',0)\n",
    "    img = cv.bitwise_not(img)\n",
    "    img =cv.resize(img, (28,28))\n",
    "    plt.imshow(img , cmap='gray')\n",
    "    plt.show()\n",
    "    img = np.expand_dims(img, -1)\n",
    "    img = np.expand_dims(img, 0)\n",
    "    print(img.shape)\n",
    "    pre =model.predict(img)\n",
    "    pre = pd.DataFrame(pre)\n",
    "    pre.iloc[0].plot(kind='bar')\n",
    "    cv.waitKey(0)\n",
    "    cv.destroyAllWindows()"
   ]
  },
  {
   "cell_type": "code",
   "execution_count": 126,
   "id": "623f13a1",
   "metadata": {},
   "outputs": [
    {
     "data": {
      "image/png": "[encoded data removed]",
      "text/plain": [
       "<Figure size 432x288 with 1 Axes>"
      ]
     },
     "metadata": {
      "needs_background": "light"
     },
     "output_type": "display_data"
    },
    {
     "name": "stdout",
     "output_type": "stream",
     "text": [
      "(1, 28, 28, 1)\n"
     ]
    },
    {
     "data": {
      "image/png": "[encoded data removed]",
      "text/plain": [
       "<Figure size 432x288 with 1 Axes>"
      ]
     },
     "metadata": {
      "needs_background": "light"
     },
     "output_type": "display_data"
    }
   ],
   "source": [
    "example()"
   ]
  },
  {
   "cell_type": "code",
   "execution_count": null,
   "id": "fb5742de",
   "metadata": {},
   "outputs": [],
   "source": []
  },
  {
   "cell_type": "code",
   "execution_count": null,
   "id": "eaf6c1b0",
   "metadata": {},
   "outputs": [],
   "source": []
  },
  {
   "cell_type": "code",
   "execution_count": null,
   "id": "2577212b",
   "metadata": {},
   "outputs": [],
   "source": []
  },
  {
   "cell_type": "code",
   "execution_count": null,
   "id": "3b5468ad",
   "metadata": {},
   "outputs": [],
   "source": []
  }
 ],
 "metadata": {
  "kernelspec": {
   "display_name": "Python 3",
   "language": "python",
   "name": "python3"
  },
  "language_info": {
   "codemirror_mode": {
    "name": "ipython",
    "version": 3
   },
   "file_extension": ".py",
   "mimetype": "text/x-python",
   "name": "python",
   "nbconvert_exporter": "python",
   "pygments_lexer": "ipython3",
   "version": "3.8.8"
  }
 },
 "nbformat": 4,
 "nbformat_minor": 5
}
